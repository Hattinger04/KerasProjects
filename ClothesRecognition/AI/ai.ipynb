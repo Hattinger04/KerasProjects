{
 "cells": [
  {
   "cell_type": "code",
   "execution_count": 311,
   "metadata": {},
   "outputs": [],
   "source": [
    "from tensorflow import keras\n",
    "from keras import layers\n",
    "from keras.datasets import fashion_mnist\n",
    "from keras.regularizers import l2\n",
    "from keras.callbacks import EarlyStopping\n",
    "\n",
    "import tensorflow as tf\n",
    "# Bibliothek für grafische Darstellung laden\n",
    "import matplotlib.pyplot as plt\n",
    "from PIL import Image #Image library Pillow\n",
    "# Funktion für zufällige Bildauswahl laden\n",
    "from random import randint\n",
    "import os\n",
    "import numpy as np\n",
    "import json \n",
    "import pandas as pd"
   ]
  },
  {
   "cell_type": "code",
   "execution_count": 312,
   "metadata": {},
   "outputs": [
    {
     "name": "stdout",
     "output_type": "stream",
     "text": [
      "Default GPU Device: /device:GPU:0\n"
     ]
    }
   ],
   "source": [
    "# check if tensorflow is running on gpu\n",
    "if tf.test.gpu_device_name():\n",
    "    print('Default GPU Device: {}'.format(tf.test.gpu_device_name()))\n",
    "else:\n",
    "    print(\"Please install GPU version of TF\")"
   ]
  },
  {
   "cell_type": "code",
   "execution_count": 313,
   "metadata": {},
   "outputs": [],
   "source": [
    "# Datensätze laden\n",
    "(train_images, train_labels), (test_images, test_labels) = fashion_mnist.load_data()"
   ]
  },
  {
   "cell_type": "code",
   "execution_count": 314,
   "metadata": {},
   "outputs": [],
   "source": [
    "labels = [\"T-shirt/Top\", \"Hose\", \"Pullover\", \"Kleid\", \"Mantel\", \"Sandalen\", \"Hemd\", \"Sneaker\", \"Tasche\", \"Halbschuhe\"]"
   ]
  },
  {
   "cell_type": "code",
   "execution_count": 315,
   "metadata": {},
   "outputs": [
    {
     "name": "stdout",
     "output_type": "stream",
     "text": [
      "trainingsdaten:\n",
      "60000\n",
      "[[  0   0   0   0   0   1   0   0   0   0  41 188 103  54  48  43  87 168\n",
      "  133  16   0   0   0   0   0   0   0   0]\n",
      " [  0   0   0   1   0   0   0  49 136 219 216 228 236 255 255 255 255 217\n",
      "  215 254 231 160  45   0   0   0   0   0]\n",
      " [  0   0   0   0   0  14 176 222 224 212 203 198 196 200 215 204 202 201\n",
      "  201 201 209 218 224 164   0   0   0   0]\n",
      " [  0   0   0   0   0 188 219 200 198 202 198 199 199 201 196 198 198 200\n",
      "  200 200 200 201 200 225  41   0   0   0]\n",
      " [  0   0   0   0  51 219 199 203 203 212 238 248 250 245 249 246 247 252\n",
      "  248 235 207 203 203 222 140   0   0   0]\n",
      " [  0   0   0   0 116 226 206 204 207 204 101  75  47  73  48  50  45  51\n",
      "   63 113 222 202 206 220 224   0   0   0]\n",
      " [  0   0   0   0 200 222 209 203 215 200   0  70  98   0 103  59  68  71\n",
      "   49   0 219 206 214 210 250  38   0   0]\n",
      " [  0   0   0   0 247 218 212 210 215 214   0 254 243 139 255 174 251 255\n",
      "  205   0 215 217 214 208 220  95   0   0]\n",
      " [  0   0   0  45 226 214 214 215 224 205   0  42  35  60  16  17  12  13\n",
      "   70   0 189 216 212 206 212 156   0   0]\n",
      " [  0   0   0 164 235 214 211 220 216 201  52  71  89  94  83  78  70  76\n",
      "   92  87 206 207 222 213 219 208   0   0]\n",
      " [  0   0   0 106 187 223 237 248 211 198 252 250 248 245 248 252 253 250\n",
      "  252 239 201 212 225 215 193 113   0   0]\n",
      " [  0   0   0   0   0  17  54 159 222 193 208 192 197 200 200 200 200 201\n",
      "  203 195 210 165   0   0   0   0   0   0]\n",
      " [  0   0   0   0   0   0   0  47 225 192 214 203 206 204 204 205 206 204\n",
      "  212 197 218 107   0   0   0   0   0   0]\n",
      " [  0   0   0   0   1   6   0  46 212 195 212 202 206 205 204 205 206 204\n",
      "  212 200 218  91   0   3   1   0   0   0]\n",
      " [  0   0   0   0   0   1   0  11 197 199 205 202 205 206 204 205 207 204\n",
      "  205 205 218  77   0   5   0   0   0   0]\n",
      " [  0   0   0   0   0   3   0   2 191 198 201 205 206 205 205 206 209 206\n",
      "  199 209 219  74   0   5   0   0   0   0]\n",
      " [  0   0   0   0   0   2   0   0 188 197 200 207 207 204 207 207 210 208\n",
      "  198 207 221  72   0   4   0   0   0   0]\n",
      " [  0   0   0   0   0   2   0   0 215 198 203 206 208 205 207 207 210 208\n",
      "  200 202 222  75   0   4   0   0   0   0]\n",
      " [  0   0   0   0   0   1   0   0 212 198 209 206 209 206 208 207 211 206\n",
      "  205 198 221  80   0   3   0   0   0   0]\n",
      " [  0   0   0   0   0   1   0   0 204 201 205 208 207 205 211 205 210 210\n",
      "  209 195 221  96   0   3   0   0   0   0]\n",
      " [  0   0   0   0   0   1   0   0 202 201 205 209 207 205 213 206 210 209\n",
      "  210 194 217 105   0   2   0   0   0   0]\n",
      " [  0   0   0   0   0   1   0   0 204 204 205 208 207 205 215 207 210 208\n",
      "  211 193 213 115   0   2   0   0   0   0]\n",
      " [  0   0   0   0   0   0   0   0 204 207 207 208 206 206 215 210 210 207\n",
      "  212 195 210 118   0   2   0   0   0   0]\n",
      " [  0   0   0   0   0   1   0   0 198 208 208 208 204 207 212 212 210 207\n",
      "  211 196 207 121   0   1   0   0   0   0]\n",
      " [  0   0   0   0   0   1   0   0 198 210 207 208 206 209 213 212 211 207\n",
      "  210 197 207 124   0   1   0   0   0   0]\n",
      " [  0   0   0   0   0   0   0   0 172 210 203 201 199 204 207 205 204 201\n",
      "  205 197 206 127   0   0   0   0   0   0]\n",
      " [  0   0   0   0   0   0   0   0 188 221 214 234 236 238 244 244 244 240\n",
      "  243 214 224 162   0   2   0   0   0   0]\n",
      " [  0   0   0   0   0   1   0   0 139 146 130 135 135 137 125 124 125 121\n",
      "  119 114 130  76   0   0   0   0   0   0]]\n",
      "0\n"
     ]
    },
    {
     "data": {
      "image/png": "[encoded data removed]",
      "text/plain": [
       "<Figure size 640x480 with 1 Axes>"
      ]
     },
     "metadata": {},
     "output_type": "display_data"
    }
   ],
   "source": [
    "#Kennenlernen er Datensätze\n",
    "print (\"trainingsdaten:\")\n",
    "print (len(train_images))\n",
    "print(train_images[1])\n",
    "img_no = 1\n",
    "# Bild zeigen\n",
    "plt.figure()\n",
    "print(train_labels[img_no])\n",
    "plt.imshow(train_images[img_no])\n",
    "plt.grid(False)\n",
    "plt.show()"
   ]
  },
  {
   "cell_type": "code",
   "execution_count": 316,
   "metadata": {},
   "outputs": [],
   "source": [
    "path = \"./data/images\" \n",
    "if not os.path.isdir(path):\n",
    "    os.makedirs(path)"
   ]
  },
  {
   "cell_type": "code",
   "execution_count": 317,
   "metadata": {},
   "outputs": [],
   "source": [
    "%%script false --no-raise-error\n",
    "\n",
    "for i in range(0,100):\n",
    "    im = Image.fromarray(train_images[i])\n",
    "    real = train_labels[i]\n",
    "    im.save(path + \"/%d_%d.png\" % (i, real))\n"
   ]
  },
  {
   "cell_type": "code",
   "execution_count": 318,
   "metadata": {},
   "outputs": [],
   "source": [
    "%%script false --no-raise-error\n",
    "\n",
    "i = Image.open(path + \"/0/1.png\")\n",
    "print(np.array(i))"
   ]
  },
  {
   "cell_type": "code",
   "execution_count": 319,
   "metadata": {},
   "outputs": [],
   "source": [
    "%%script false --no-raise-error\n",
    "\n",
    "for i in range(len(train_images)):\n",
    "    im = Image.fromarray(train_images[i])\n",
    "    label = train_labels[i]\n",
    "    if not os.path.isdir(path+ \"/%s\" % label):\n",
    "        os.makedirs(path + \"/%s\" % label)\n",
    "    im.save(path + \"/%s/%d.png\" % (label, i))\n"
   ]
  },
  {
   "cell_type": "code",
   "execution_count": 320,
   "metadata": {},
   "outputs": [
    {
     "name": "stdout",
     "output_type": "stream",
     "text": [
      "(60000, 28, 28) train samples\n"
     ]
    }
   ],
   "source": [
    "train_images = train_images.astype(\"float32\") / 255\n",
    "print(train_images.shape, \"train samples\")\n",
    "test_images = test_images.astype(\"float32\") / 255"
   ]
  },
  {
   "cell_type": "code",
   "execution_count": 321,
   "metadata": {},
   "outputs": [
    {
     "name": "stdout",
     "output_type": "stream",
     "text": [
      "(60000, 28, 28, 1)\n"
     ]
    }
   ],
   "source": [
    "train_images = np.expand_dims(train_images, -1)\n",
    "test_images = np.expand_dims(test_images, -1)\n",
    "print(train_images.shape)"
   ]
  },
  {
   "cell_type": "code",
   "execution_count": 322,
   "metadata": {},
   "outputs": [],
   "source": [
    "num_classes = 10\n",
    "\n",
    "# convert class vectors (the labels) to binary class matrices\n",
    "train_labels = keras.utils.to_categorical(train_labels, num_classes)\n",
    "test_labels_untouched = test_labels #use this to leave the labels untouched\n",
    "test_labels = keras.utils.to_categorical(test_labels, num_classes)"
   ]
  },
  {
   "cell_type": "code",
   "execution_count": 323,
   "metadata": {},
   "outputs": [],
   "source": [
    "%%script false --no-raise-error\n",
    "train_images = train_images.reshape(60000, 784)\n",
    "test_images = test_images.reshape(10000, 784)\n",
    "train_images = train_images.astype('float32')\n",
    "test_images = test_images.astype('float32')\n",
    "\n",
    "print(train_images)"
   ]
  },
  {
   "cell_type": "code",
   "execution_count": 372,
   "metadata": {},
   "outputs": [],
   "source": [
    "model = keras.Sequential()\n",
    "model.add(layers.Conv2D(32, (3, 3), activation='relu', input_shape=(28, 28, 1)))\n",
    "model.add(layers.MaxPooling2D((2, 2)))\n",
    "\n",
    "model.add(layers.Conv2D(64, (3, 3), activation='relu'))\n",
    "model.add(layers.MaxPooling2D((2, 2)))\n",
    "\n",
    "model.add(layers.SpatialDropout2D(0.3))\n",
    "model.add(layers.Flatten())\n",
    "model.add(layers.Dropout(0.3))\n",
    "\n",
    "model.add(layers.Dense(128, activation='relu'))\n",
    "model.add(layers.Dense(10, activation='softmax'))\n"
   ]
  },
  {
   "cell_type": "code",
   "execution_count": 373,
   "metadata": {},
   "outputs": [
    {
     "name": "stdout",
     "output_type": "stream",
     "text": [
      "Model: \"sequential_31\"\n",
      "_________________________________________________________________\n",
      " Layer (type)                Output Shape              Param #   \n",
      "=================================================================\n",
      " conv2d_37 (Conv2D)          (None, 26, 26, 32)        320       \n",
      "                                                                 \n",
      " max_pooling2d_35 (MaxPoolin  (None, 13, 13, 32)       0         \n",
      " g2D)                                                            \n",
      "                                                                 \n",
      " conv2d_38 (Conv2D)          (None, 11, 11, 64)        18496     \n",
      "                                                                 \n",
      " max_pooling2d_36 (MaxPoolin  (None, 5, 5, 64)         0         \n",
      " g2D)                                                            \n",
      "                                                                 \n",
      " spatial_dropout2d_5 (Spatia  (None, 5, 5, 64)         0         \n",
      " lDropout2D)                                                     \n",
      "                                                                 \n",
      " flatten_23 (Flatten)        (None, 1600)              0         \n",
      "                                                                 \n",
      " dropout_5 (Dropout)         (None, 1600)              0         \n",
      "                                                                 \n",
      " dense_71 (Dense)            (None, 128)               204928    \n",
      "                                                                 \n",
      " dense_72 (Dense)            (None, 10)                1290      \n",
      "                                                                 \n",
      "=================================================================\n",
      "Total params: 225,034\n",
      "Trainable params: 225,034\n",
      "Non-trainable params: 0\n",
      "_________________________________________________________________\n"
     ]
    }
   ],
   "source": [
    "model.summary()"
   ]
  },
  {
   "cell_type": "code",
   "execution_count": 374,
   "metadata": {},
   "outputs": [],
   "source": [
    "model.compile(loss=\"categorical_crossentropy\", optimizer=\"adam\", metrics=[\"accuracy\"])"
   ]
  },
  {
   "cell_type": "code",
   "execution_count": 375,
   "metadata": {},
   "outputs": [
    {
     "name": "stdout",
     "output_type": "stream",
     "text": [
      "Epoch 1/50\n",
      "422/422 [==============================] - 8s 15ms/step - loss: 0.6100 - accuracy: 0.7779 - val_loss: 0.4445 - val_accuracy: 0.8278\n",
      "Epoch 2/50\n",
      "422/422 [==============================] - 6s 13ms/step - loss: 0.4182 - accuracy: 0.8475 - val_loss: 0.3452 - val_accuracy: 0.8707\n",
      "Epoch 3/50\n",
      "422/422 [==============================] - 5s 13ms/step - loss: 0.3623 - accuracy: 0.8694 - val_loss: 0.3130 - val_accuracy: 0.8855\n",
      "Epoch 4/50\n",
      "422/422 [==============================] - 5s 13ms/step - loss: 0.3300 - accuracy: 0.8821 - val_loss: 0.2924 - val_accuracy: 0.8917\n",
      "Epoch 5/50\n",
      "422/422 [==============================] - 5s 13ms/step - loss: 0.3063 - accuracy: 0.8882 - val_loss: 0.2912 - val_accuracy: 0.8915\n",
      "Epoch 6/50\n",
      "422/422 [==============================] - 5s 13ms/step - loss: 0.2904 - accuracy: 0.8932 - val_loss: 0.2686 - val_accuracy: 0.8970\n",
      "Epoch 7/50\n",
      "422/422 [==============================] - 5s 13ms/step - loss: 0.2739 - accuracy: 0.8995 - val_loss: 0.2630 - val_accuracy: 0.9025\n",
      "Epoch 8/50\n",
      "422/422 [==============================] - 5s 13ms/step - loss: 0.2640 - accuracy: 0.9012 - val_loss: 0.2505 - val_accuracy: 0.9078\n",
      "Epoch 9/50\n",
      "422/422 [==============================] - 5s 13ms/step - loss: 0.2496 - accuracy: 0.9077 - val_loss: 0.2463 - val_accuracy: 0.9117\n",
      "Epoch 10/50\n",
      "422/422 [==============================] - 5s 13ms/step - loss: 0.2426 - accuracy: 0.9099 - val_loss: 0.2644 - val_accuracy: 0.9008\n",
      "Epoch 11/50\n",
      "422/422 [==============================] - 6s 14ms/step - loss: 0.2345 - accuracy: 0.9123 - val_loss: 0.2386 - val_accuracy: 0.9133\n",
      "Epoch 12/50\n",
      "422/422 [==============================] - 6s 14ms/step - loss: 0.2241 - accuracy: 0.9165 - val_loss: 0.2366 - val_accuracy: 0.9127\n",
      "Epoch 13/50\n",
      "422/422 [==============================] - 6s 14ms/step - loss: 0.2194 - accuracy: 0.9187 - val_loss: 0.2317 - val_accuracy: 0.9155\n",
      "Epoch 14/50\n",
      "422/422 [==============================] - 6s 13ms/step - loss: 0.2092 - accuracy: 0.9208 - val_loss: 0.2364 - val_accuracy: 0.9138\n",
      "Epoch 15/50\n",
      "422/422 [==============================] - 6s 13ms/step - loss: 0.2050 - accuracy: 0.9236 - val_loss: 0.2305 - val_accuracy: 0.9168\n",
      "Epoch 16/50\n",
      "422/422 [==============================] - 6s 13ms/step - loss: 0.1993 - accuracy: 0.9260 - val_loss: 0.2255 - val_accuracy: 0.9168\n",
      "Epoch 17/50\n",
      "422/422 [==============================] - 6s 13ms/step - loss: 0.1925 - accuracy: 0.9273 - val_loss: 0.2271 - val_accuracy: 0.9183\n",
      "Epoch 18/50\n",
      "422/422 [==============================] - 5s 13ms/step - loss: 0.1853 - accuracy: 0.9296 - val_loss: 0.2261 - val_accuracy: 0.9207\n",
      "Epoch 19/50\n",
      "422/422 [==============================] - 5s 13ms/step - loss: 0.1838 - accuracy: 0.9299 - val_loss: 0.2347 - val_accuracy: 0.9192\n",
      "Epoch 20/50\n",
      "422/422 [==============================] - 6s 14ms/step - loss: 0.1777 - accuracy: 0.9326 - val_loss: 0.2245 - val_accuracy: 0.9208\n",
      "Epoch 21/50\n",
      "422/422 [==============================] - 6s 13ms/step - loss: 0.1736 - accuracy: 0.9332 - val_loss: 0.2234 - val_accuracy: 0.9235\n",
      "Epoch 22/50\n",
      "422/422 [==============================] - 5s 13ms/step - loss: 0.1666 - accuracy: 0.9370 - val_loss: 0.2380 - val_accuracy: 0.9147\n",
      "Epoch 23/50\n",
      "422/422 [==============================] - 5s 13ms/step - loss: 0.1662 - accuracy: 0.9371 - val_loss: 0.2250 - val_accuracy: 0.9197\n",
      "Epoch 24/50\n",
      "422/422 [==============================] - 5s 13ms/step - loss: 0.1591 - accuracy: 0.9390 - val_loss: 0.2299 - val_accuracy: 0.9177\n",
      "Epoch 25/50\n",
      "422/422 [==============================] - 6s 13ms/step - loss: 0.1590 - accuracy: 0.9394 - val_loss: 0.2326 - val_accuracy: 0.9197\n",
      "Epoch 26/50\n",
      "422/422 [==============================] - 6s 13ms/step - loss: 0.1536 - accuracy: 0.9419 - val_loss: 0.2311 - val_accuracy: 0.9210\n"
     ]
    }
   ],
   "source": [
    "batch_size = 128\n",
    "epochs = 50\n",
    "\n",
    "#model = keras.models.load_model('/data/model.mdl')\n",
    "#model.load_weights(\"/data/model.h5\")\n",
    "\n",
    "\n",
    "early_stopping = EarlyStopping(monitor='val_loss', patience=5)\n",
    "history = model.fit(train_images, train_labels, batch_size=batch_size, epochs=epochs, validation_split=0.1, callbacks=[early_stopping])"
   ]
  },
  {
   "cell_type": "code",
   "execution_count": 376,
   "metadata": {},
   "outputs": [
    {
     "data": {
      "text/plain": [
       "Text(0, 0.5, 'Accuracy [%]')"
      ]
     },
     "execution_count": 376,
     "metadata": {},
     "output_type": "execute_result"
    },
    {
     "data": {
      "image/png": "[encoded data removed]",
      "text/plain": [
       "<Figure size 1600x600 with 2 Axes>"
      ]
     },
     "metadata": {},
     "output_type": "display_data"
    }
   ],
   "source": [
    "metrics = history.history\n",
    "plt.figure(figsize=(16,6))\n",
    "plt.subplot(1,2,1)\n",
    "plt.plot(history.epoch, metrics['loss'], metrics['val_loss'])\n",
    "plt.legend(['loss', 'val_loss'])\n",
    "plt.ylim([0, max(plt.ylim())])\n",
    "plt.xlabel('Epoch')\n",
    "plt.ylabel('Loss [CrossEntropy]')\n",
    "\n",
    "plt.subplot(1,2,2)\n",
    "plt.plot(history.epoch, 100*np.array(metrics['accuracy']), 100*np.array(metrics['val_accuracy']))\n",
    "plt.legend(['accuracy', 'val_accuracy'])\n",
    "plt.ylim([0, 100])\n",
    "plt.xlabel('Epoch')\n",
    "plt.ylabel('Accuracy [%]')"
   ]
  },
  {
   "cell_type": "code",
   "execution_count": 377,
   "metadata": {},
   "outputs": [
    {
     "name": "stdout",
     "output_type": "stream",
     "text": [
      "313/313 - 2s - loss: 0.2432 - accuracy: 0.9196 - 2s/epoch - 6ms/step\n",
      "Test loss: 0.24318057298660278\n",
      "Test accuracy: 0.9196000099182129\n"
     ]
    }
   ],
   "source": [
    "score = model.evaluate(test_images, test_labels, verbose=2)\n",
    "print(\"Test loss:\", score[0])\n",
    "print(\"Test accuracy:\", score[1])"
   ]
  },
  {
   "cell_type": "code",
   "execution_count": 378,
   "metadata": {},
   "outputs": [
    {
     "name": "stdout",
     "output_type": "stream",
     "text": [
      "313/313 [==============================] - 2s 4ms/step\n",
      "[4.1831863e-06 7.8193196e-14 9.9998689e-01 5.9856375e-10 8.6028285e-06\n",
      " 2.1718613e-13 3.3417095e-07 2.5242780e-15 9.4409494e-11 5.7383148e-12]\n",
      "Pullover 2\n",
      "Pullover\n"
     ]
    }
   ],
   "source": [
    "pred = model.predict(test_images)\n",
    "print(pred[1]) #Prediction for image 1\n",
    "pred_1 = np.argmax(pred[1])\n",
    "print(labels[pred_1], pred_1)\n",
    "print(labels[test_labels_untouched[1]])"
   ]
  },
  {
   "cell_type": "code",
   "execution_count": 379,
   "metadata": {},
   "outputs": [
    {
     "name": "stdout",
     "output_type": "stream",
     "text": [
      "Fails:  804\n"
     ]
    }
   ],
   "source": [
    "counter = 0\n",
    "for i in range(0,10000):\n",
    "    pred_i = np.argmax(pred[i]) # get the position of the highest value within the list\n",
    "    if test_labels_untouched[i] != pred_i: \n",
    "        counter += 1\n",
    "print(\"Fails: \", counter)"
   ]
  },
  {
   "cell_type": "code",
   "execution_count": null,
   "metadata": {},
   "outputs": [
    {
     "name": "stdout",
     "output_type": "stream",
     "text": [
      "5\n",
      "Sandalen\n"
     ]
    },
    {
     "data": {
      "image/png": "[encoded data removed]",
      "text/plain": [
       "<Figure size 640x480 with 1 Axes>"
      ]
     },
     "metadata": {},
     "output_type": "display_data"
    }
   ],
   "source": [
    "zahl = 1200   \n",
    "print(test_labels_untouched[zahl])\n",
    "print(labels[test_labels_untouched[zahl]])\n",
    "\n",
    "plt.imshow(train_images[zahl])\n",
    "plt.show()"
   ]
  },
  {
   "cell_type": "code",
   "execution_count": 371,
   "metadata": {},
   "outputs": [
    {
     "name": "stderr",
     "output_type": "stream",
     "text": [
      "WARNING:absl:Found untraced functions such as _jit_compiled_convolution_op, _jit_compiled_convolution_op while saving (showing 2 of 2). These functions will not be directly callable after loading.\n"
     ]
    },
    {
     "name": "stdout",
     "output_type": "stream",
     "text": [
      "INFO:tensorflow:Assets written to: ./data/save/model.mdl\\assets\n"
     ]
    },
    {
     "name": "stderr",
     "output_type": "stream",
     "text": [
      "INFO:tensorflow:Assets written to: ./data/save/model.mdl\\assets\n"
     ]
    }
   ],
   "source": [
    "model.save('./data/save/model.mdl')\n",
    "model.save_weights(\"./data/save/model.h5\")"
   ]
  },
  {
   "cell_type": "code",
   "execution_count": null,
   "metadata": {},
   "outputs": [],
   "source": [
    "weights = model.get_weights()\n",
    "j =json.dumps(pd.Series(weights).to_json(orient='values'), indent=3)\n",
    "print(j)\n",
    "\n",
    "\"\"\"\n",
    "model = keras.models.load_model('/home/albert/model.mdl')\n",
    "model.load_weights(\"/home/albert/model.h5\")\n",
    "\"\"\"\n",
    "\n",
    "model_json = model.to_json()\n",
    "print (model_json)\n"
   ]
  }
 ],
 "metadata": {
  "kernelspec": {
   "display_name": "tf-gpu",
   "language": "python",
   "name": "python3"
  },
  "language_info": {
   "codemirror_mode": {
    "name": "ipython",
    "version": 3
   },
   "file_extension": ".py",
   "mimetype": "text/x-python",
   "name": "python",
   "nbconvert_exporter": "python",
   "pygments_lexer": "ipython3",
   "version": "3.9.16"
  },
  "orig_nbformat": 4,
  "vscode": {
   "interpreter": {
    "hash": "576878a150a1787322cf272cbccd8fcf98a028f7887cb5ffc0f34b25f1bb9b0a"
   }
  }
 },
 "nbformat": 4,
 "nbformat_minor": 2
}
